{
 "cells": [
  {
   "cell_type": "markdown",
   "metadata": {},
   "source": [
    "# 18BCE2522"
   ]
  },
  {
   "cell_type": "markdown",
   "metadata": {},
   "source": [
    "# Shashank Shukla"
   ]
  },
  {
   "cell_type": "code",
   "execution_count": 36,
   "metadata": {},
   "outputs": [],
   "source": [
    "from sklearn.cluster import KMeans \n",
    "from sklearn.feature_extraction.text import TfidfVectorizer\n",
    "from sklearn.decomposition import PCA\n",
    "from sklearn.preprocessing import normalize\n",
    "from sklearn.metrics import pairwise_distances"
   ]
  },
  {
   "cell_type": "code",
   "execution_count": 38,
   "metadata": {},
   "outputs": [],
   "source": [
    "documents = [\"From which companies do you experience the best customer service aside from @zappos and @apple?\",\n",
    "             \"I'm suspecting @Apple timed the health-decline of my iPhone 4 perfectly with the iPhone 4s release... My battery is seriously ailing.\"\n",
    "            ]"
   ]
  },
  {
   "cell_type": "code",
   "execution_count": 39,
   "metadata": {},
   "outputs": [],
   "source": [
    "vectorizer = TfidfVectorizer(stop_words='english')\n",
    "X = vectorizer.fit_transform(documents)"
   ]
  },
  {
   "cell_type": "code",
   "execution_count": 40,
   "metadata": {},
   "outputs": [
    {
     "data": {
      "text/plain": [
       "array([[0.        , 0.        , 0.25969799, 0.36499647, 0.        ,\n",
       "        0.36499647, 0.36499647, 0.36499647, 0.        , 0.36499647,\n",
       "        0.        , 0.        , 0.        , 0.        , 0.        ,\n",
       "        0.36499647, 0.        , 0.        , 0.36499647],\n",
       "       [0.26255634, 0.26255634, 0.186811  , 0.        , 0.26255634,\n",
       "        0.        , 0.        , 0.        , 0.26255634, 0.        ,\n",
       "        0.26255634, 0.52511268, 0.26255634, 0.26255634, 0.26255634,\n",
       "        0.        , 0.26255634, 0.26255634, 0.        ]])"
      ]
     },
     "execution_count": 40,
     "metadata": {},
     "output_type": "execute_result"
    }
   ],
   "source": [
    "tf_idf_norm = normalize(X)\n",
    "tf_idf_array = tf_idf_norm.toarray()\n",
    "tf_idf_array"
   ]
  },
  {
   "cell_type": "code",
   "execution_count": 29,
   "metadata": {},
   "outputs": [
    {
     "data": {
      "text/plain": [
       "KMeans(max_iter=100, n_clusters=2, n_init=1)"
      ]
     },
     "execution_count": 29,
     "metadata": {},
     "output_type": "execute_result"
    }
   ],
   "source": [
    "true_k = 2\n",
    "iris_k_mean_model = KMeans(n_clusters=true_k, init='k-means++', max_iter=100, n_init=1)\n",
    "iris_k_mean_model.fit(X)"
   ]
  },
  {
   "cell_type": "code",
   "execution_count": 30,
   "metadata": {},
   "outputs": [
    {
     "name": "stdout",
     "output_type": "stream",
     "text": [
      "[0 1]\n"
     ]
    }
   ],
   "source": [
    "print (iris_k_mean_model.labels_)"
   ]
  },
  {
   "cell_type": "code",
   "execution_count": 31,
   "metadata": {},
   "outputs": [
    {
     "name": "stdout",
     "output_type": "stream",
     "text": [
      "[[0.         0.         0.25969799 0.36499647 0.         0.36499647\n",
      "  0.36499647 0.36499647 0.         0.36499647 0.         0.\n",
      "  0.         0.         0.         0.36499647 0.         0.\n",
      "  0.36499647]\n",
      " [0.26255634 0.26255634 0.186811   0.         0.26255634 0.\n",
      "  0.         0.         0.26255634 0.         0.26255634 0.52511268\n",
      "  0.26255634 0.26255634 0.26255634 0.         0.26255634 0.26255634\n",
      "  0.        ]]\n"
     ]
    }
   ],
   "source": [
    "print( iris_k_mean_model.cluster_centers_)"
   ]
  },
  {
   "cell_type": "code",
   "execution_count": 34,
   "metadata": {},
   "outputs": [
    {
     "name": "stdout",
     "output_type": "stream",
     "text": [
      "Top terms per cluster:\n",
      "Cluster 0:\n",
      " best\n",
      " aside\n",
      "Cluster 1:\n",
      " perfectly\n",
      " iphone\n"
     ]
    }
   ],
   "source": [
    "print(\"Top terms per cluster:\")\n",
    "order_centroids = model.cluster_centers_.argsort()[:, ::-1]\n",
    "terms = vectorizer.get_feature_names()\n",
    "for i in range(true_k):\n",
    "    print(\"Cluster %d:\" % i),\n",
    "    for ind in order_centroids[i, :2]:\n",
    "        print(' %s' % terms[ind]),\n",
    "    print\n"
   ]
  },
  {
   "cell_type": "code",
   "execution_count": null,
   "metadata": {},
   "outputs": [],
   "source": [
    "plt.figure(figsize=(15,5))\n",
    "colors = np.array(['red', 'green', 'blue'])\n",
    "iris_targets_legend = np.array(iris.target_names)\n",
    "red_patch = mpatches.Patch(color='red', label='Setosa')\n",
    "green_patch = mpatches.Patch(color='green', label='Versicolor')\n",
    "blue_patch = mpatches.Patch(color='blue', label='Virginica')\n",
    "yellow_patch = mpatches.Patch(color=\"yellow\", label=\"New\")\n",
    "\n",
    "\n",
    "plt.subplot(1, 2, 1)\n",
    "plt.scatter(x['Sepal Length'], x['Sepal Width'], c=colors[y['Target']])\n",
    "plt.title('Sepal Length vs Sepal Width')\n",
    "plt.legend(handles=[red_patch, green_patch, blue_patch])"
   ]
  },
  {
   "cell_type": "code",
   "execution_count": null,
   "metadata": {},
   "outputs": [],
   "source": []
  },
  {
   "cell_type": "code",
   "execution_count": null,
   "metadata": {},
   "outputs": [],
   "source": []
  },
  {
   "cell_type": "code",
   "execution_count": null,
   "metadata": {},
   "outputs": [],
   "source": []
  }
 ],
 "metadata": {
  "kernelspec": {
   "display_name": "Python 3",
   "language": "python",
   "name": "python3"
  },
  "language_info": {
   "codemirror_mode": {
    "name": "ipython",
    "version": 3
   },
   "file_extension": ".py",
   "mimetype": "text/x-python",
   "name": "python",
   "nbconvert_exporter": "python",
   "pygments_lexer": "ipython3",
   "version": "3.7.9"
  }
 },
 "nbformat": 4,
 "nbformat_minor": 4
}
