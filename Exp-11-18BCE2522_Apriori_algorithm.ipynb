{
 "cells": [
  {
   "cell_type": "markdown",
   "metadata": {},
   "source": [
    "# 18BCE2522"
   ]
  },
  {
   "cell_type": "markdown",
   "metadata": {},
   "source": [
    "# Shashank Shukla"
   ]
  },
  {
   "cell_type": "code",
   "execution_count": 1,
   "metadata": {},
   "outputs": [],
   "source": [
    "import numpy as np\n",
    "import pandas as pd\n",
    "from apyori import apriori"
   ]
  },
  {
   "cell_type": "code",
   "execution_count": 3,
   "metadata": {},
   "outputs": [],
   "source": [
    "book_data = pd.read_csv('D:/Downloads/Book5.csv', header=None)"
   ]
  },
  {
   "cell_type": "code",
   "execution_count": 6,
   "metadata": {},
   "outputs": [
    {
     "data": {
      "text/html": [
       "<div>\n",
       "<style scoped>\n",
       "    .dataframe tbody tr th:only-of-type {\n",
       "        vertical-align: middle;\n",
       "    }\n",
       "\n",
       "    .dataframe tbody tr th {\n",
       "        vertical-align: top;\n",
       "    }\n",
       "\n",
       "    .dataframe thead th {\n",
       "        text-align: right;\n",
       "    }\n",
       "</style>\n",
       "<table border=\"1\" class=\"dataframe\">\n",
       "  <thead>\n",
       "    <tr style=\"text-align: right;\">\n",
       "      <th></th>\n",
       "      <th>0</th>\n",
       "      <th>1</th>\n",
       "      <th>2</th>\n",
       "      <th>3</th>\n",
       "      <th>4</th>\n",
       "      <th>5</th>\n",
       "    </tr>\n",
       "  </thead>\n",
       "  <tbody>\n",
       "    <tr>\n",
       "      <th>0</th>\n",
       "      <td>T1</td>\n",
       "      <td>hotdogs</td>\n",
       "      <td>buns</td>\n",
       "      <td>ketchup</td>\n",
       "      <td>NaN</td>\n",
       "      <td>NaN</td>\n",
       "    </tr>\n",
       "    <tr>\n",
       "      <th>1</th>\n",
       "      <td>T2</td>\n",
       "      <td>hotdogs</td>\n",
       "      <td>buns</td>\n",
       "      <td>NaN</td>\n",
       "      <td>NaN</td>\n",
       "      <td>NaN</td>\n",
       "    </tr>\n",
       "    <tr>\n",
       "      <th>2</th>\n",
       "      <td>T3</td>\n",
       "      <td>hotdogs</td>\n",
       "      <td>NaN</td>\n",
       "      <td>NaN</td>\n",
       "      <td>coke</td>\n",
       "      <td>chips</td>\n",
       "    </tr>\n",
       "    <tr>\n",
       "      <th>3</th>\n",
       "      <td>T4</td>\n",
       "      <td>NaN</td>\n",
       "      <td>NaN</td>\n",
       "      <td>NaN</td>\n",
       "      <td>coke</td>\n",
       "      <td>chips</td>\n",
       "    </tr>\n",
       "    <tr>\n",
       "      <th>4</th>\n",
       "      <td>T5</td>\n",
       "      <td>NaN</td>\n",
       "      <td>NaN</td>\n",
       "      <td>ketchup</td>\n",
       "      <td>NaN</td>\n",
       "      <td>chips</td>\n",
       "    </tr>\n",
       "    <tr>\n",
       "      <th>5</th>\n",
       "      <td>T6</td>\n",
       "      <td>hotdogs</td>\n",
       "      <td>NaN</td>\n",
       "      <td>NaN</td>\n",
       "      <td>coke</td>\n",
       "      <td>chips</td>\n",
       "    </tr>\n",
       "  </tbody>\n",
       "</table>\n",
       "</div>"
      ],
      "text/plain": [
       "    0        1     2        3     4      5\n",
       "0  T1  hotdogs  buns  ketchup   NaN    NaN\n",
       "1  T2  hotdogs  buns      NaN   NaN    NaN\n",
       "2  T3  hotdogs   NaN      NaN  coke  chips\n",
       "3  T4      NaN   NaN      NaN  coke  chips\n",
       "4  T5      NaN   NaN  ketchup   NaN  chips\n",
       "5  T6  hotdogs   NaN      NaN  coke  chips"
      ]
     },
     "execution_count": 6,
     "metadata": {},
     "output_type": "execute_result"
    }
   ],
   "source": [
    "book_data"
   ]
  },
  {
   "cell_type": "code",
   "execution_count": 7,
   "metadata": {},
   "outputs": [],
   "source": [
    "#converting dataframe into list\n",
    "items = []\n",
    "for i in range(0, 6):\n",
    "    items.append([str(book_data.values[i, j]) for j in range(0,6)])"
   ]
  },
  {
   "cell_type": "code",
   "execution_count": 8,
   "metadata": {},
   "outputs": [],
   "source": [
    "#generating apriori model\n",
    "final_rule = apriori(items, min_support = 0.5, min_confidence = 0.7, min_lift = 1.2, min_legth = 2)"
   ]
  },
  {
   "cell_type": "code",
   "execution_count": 9,
   "metadata": {},
   "outputs": [],
   "source": [
    "#grouping all the rulse into a list\n",
    "final_results = list(final_rule)"
   ]
  },
  {
   "cell_type": "code",
   "execution_count": 12,
   "metadata": {},
   "outputs": [
    {
     "data": {
      "text/plain": [
       "frozenset({'chips', 'coke'})"
      ]
     },
     "execution_count": 12,
     "metadata": {},
     "output_type": "execute_result"
    }
   ],
   "source": [
    "final_results[0][0]"
   ]
  },
  {
   "cell_type": "code",
   "execution_count": 15,
   "metadata": {},
   "outputs": [
    {
     "data": {
      "text/plain": [
       "RelationRecord(items=frozenset({'coke', 'chips'}), support=0.5, ordered_statistics=[OrderedStatistic(items_base=frozenset({'chips'}), items_add=frozenset({'coke'}), confidence=0.75, lift=1.5), OrderedStatistic(items_base=frozenset({'coke'}), items_add=frozenset({'chips'}), confidence=1.0, lift=1.5)])"
      ]
     },
     "execution_count": 15,
     "metadata": {},
     "output_type": "execute_result"
    }
   ],
   "source": [
    "final_results[0]"
   ]
  },
  {
   "cell_type": "code",
   "execution_count": 16,
   "metadata": {},
   "outputs": [
    {
     "data": {
      "text/plain": [
       "RelationRecord(items=frozenset({'coke', 'chips', 'nan'}), support=0.5, ordered_statistics=[OrderedStatistic(items_base=frozenset({'chips'}), items_add=frozenset({'coke', 'nan'}), confidence=0.75, lift=1.5), OrderedStatistic(items_base=frozenset({'coke'}), items_add=frozenset({'chips', 'nan'}), confidence=1.0, lift=1.5), OrderedStatistic(items_base=frozenset({'chips', 'nan'}), items_add=frozenset({'coke'}), confidence=0.75, lift=1.5), OrderedStatistic(items_base=frozenset({'coke', 'nan'}), items_add=frozenset({'chips'}), confidence=1.0, lift=1.5)])"
      ]
     },
     "execution_count": 16,
     "metadata": {},
     "output_type": "execute_result"
    }
   ],
   "source": [
    "final_results[1]"
   ]
  },
  {
   "cell_type": "code",
   "execution_count": 18,
   "metadata": {},
   "outputs": [
    {
     "data": {
      "text/plain": [
       "[RelationRecord(items=frozenset({'coke', 'chips'}), support=0.5, ordered_statistics=[OrderedStatistic(items_base=frozenset({'chips'}), items_add=frozenset({'coke'}), confidence=0.75, lift=1.5), OrderedStatistic(items_base=frozenset({'coke'}), items_add=frozenset({'chips'}), confidence=1.0, lift=1.5)]),\n",
       " RelationRecord(items=frozenset({'coke', 'chips', 'nan'}), support=0.5, ordered_statistics=[OrderedStatistic(items_base=frozenset({'chips'}), items_add=frozenset({'coke', 'nan'}), confidence=0.75, lift=1.5), OrderedStatistic(items_base=frozenset({'coke'}), items_add=frozenset({'chips', 'nan'}), confidence=1.0, lift=1.5), OrderedStatistic(items_base=frozenset({'chips', 'nan'}), items_add=frozenset({'coke'}), confidence=0.75, lift=1.5), OrderedStatistic(items_base=frozenset({'coke', 'nan'}), items_add=frozenset({'chips'}), confidence=1.0, lift=1.5)])]"
      ]
     },
     "execution_count": 18,
     "metadata": {},
     "output_type": "execute_result"
    }
   ],
   "source": [
    "final_results"
   ]
  },
  {
   "cell_type": "markdown",
   "metadata": {},
   "source": [
    "# This final result shows that the cofidence of the rule is 9.0 means 90%"
   ]
  },
  {
   "cell_type": "code",
   "execution_count": null,
   "metadata": {},
   "outputs": [],
   "source": []
  }
 ],
 "metadata": {
  "kernelspec": {
   "display_name": "Python 3",
   "language": "python",
   "name": "python3"
  },
  "language_info": {
   "codemirror_mode": {
    "name": "ipython",
    "version": 3
   },
   "file_extension": ".py",
   "mimetype": "text/x-python",
   "name": "python",
   "nbconvert_exporter": "python",
   "pygments_lexer": "ipython3",
   "version": "3.7.9"
  }
 },
 "nbformat": 4,
 "nbformat_minor": 4
}
