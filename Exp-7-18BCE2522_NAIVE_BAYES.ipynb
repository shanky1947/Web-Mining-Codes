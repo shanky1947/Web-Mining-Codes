{
 "cells": [
  {
   "cell_type": "code",
   "execution_count": 22,
   "metadata": {},
   "outputs": [
    {
     "name": "stdout",
     "output_type": "stream",
     "text": [
      "Features\n",
      "[[7.9 3.8 6.4 2. ]\n",
      " [4.4 2.9 1.4 0.2]\n",
      " [4.8 3.4 1.6 0.2]\n",
      " [6.9 3.1 5.1 2.3]\n",
      " [6.3 2.8 5.1 1.5]]\n",
      " \n",
      "Labels:\n",
      "[2 0 0 2 2]\n"
     ]
    }
   ],
   "source": [
    "from sklearn import datasets\n",
    "from sklearn import metrics\n",
    "from sklearn.naive_bayes import GaussianNB\n",
    "from sklearn.model_selection import train_test_split\n",
    "import numpy as np\n",
    "\n",
    "# load the iris datasets\n",
    "dataset = datasets.load_iris()\n",
    "# fit a Naive Bayes model to the data\n",
    "\n",
    "xtrain, xtest, ytrain, ytest=train_test_split(dataset.data, dataset.target)\n",
    "\n",
    "print(\"Features\")\n",
    "print(xtrain[0:5])\n",
    "print(\" \")\n",
    "print(\"Labels:\")\n",
    "print(ytrain[0:5])"
   ]
  },
  {
   "cell_type": "code",
   "execution_count": 26,
   "metadata": {},
   "outputs": [
    {
     "name": "stdout",
     "output_type": "stream",
     "text": [
      "GaussianNB()\n",
      "Score: \n",
      "0.9642857142857143\n",
      " \n",
      "Confusion matrix:\n",
      "[[21  0  0]\n",
      " [ 0  6  1]\n",
      " [ 0  1  9]]\n"
     ]
    }
   ],
   "source": [
    "model = GaussianNB()\n",
    "\n",
    "model.fit(xtrain, ytrain)\n",
    "print(model)\n",
    "\n",
    "# make predictions\n",
    "expected = ytest\n",
    "predicted = model.predict(xtest)\n",
    "\n",
    "# summarize the fit of the model\n",
    "print(\"Score: \")\n",
    "print(model.score(xtrain, ytrain))\n",
    "print(\" \")\n",
    "print(\"Confusion matrix:\")\n",
    "print(metrics.confusion_matrix(expected, predicted))\n",
    "\n",
    "\n",
    "cf_matrix = metrics.confusion_matrix(expected, predicted)"
   ]
  },
  {
   "cell_type": "code",
   "execution_count": 16,
   "metadata": {},
   "outputs": [
    {
     "data": {
      "image/png": "[encoded data removed]",
      "text/plain": [
       "<Figure size 432x288 with 2 Axes>"
      ]
     },
     "metadata": {
      "needs_background": "light"
     },
     "output_type": "display_data"
    }
   ],
   "source": [
    "import seaborn as sns\n",
    "import matplotlib.pyplot as plt     \n",
    "\n",
    "ax= plt.subplot()\n",
    "sns.heatmap(cf_matrix, annot=True, ax = ax); #annot=True to annotate cells\n",
    "\n",
    "# labels, title and ticks\n",
    "ax.set_xlabel('Predicted labels');ax.set_ylabel('True labels'); \n",
    "ax.set_title('Confusion Matrix'); \n",
    "ax.xaxis.set_ticklabels(['Setosa(0)', 'Versicolor(1)', 'Virginica(2)']); ax.yaxis.set_ticklabels(['Setosa(0)', 'Versicolor(1)', 'Virginica(2)']);"
   ]
  },
  {
   "cell_type": "code",
   "execution_count": 48,
   "metadata": {},
   "outputs": [],
   "source": [
    "y=dataset.target[:-50]\n",
    "x=dataset.data[:-50]"
   ]
  },
  {
   "cell_type": "code",
   "execution_count": 49,
   "metadata": {},
   "outputs": [],
   "source": [
    "xtrain, xtest, ytrain, ytest=train_test_split(x, y)"
   ]
  },
  {
   "cell_type": "code",
   "execution_count": 50,
   "metadata": {},
   "outputs": [
    {
     "name": "stdout",
     "output_type": "stream",
     "text": [
      "GaussianNB()\n",
      "Score: \n",
      "1.0\n",
      " \n",
      "Confusion matrix:\n",
      "[[14  0]\n",
      " [ 0 11]]\n"
     ]
    }
   ],
   "source": [
    "model = GaussianNB()\n",
    "\n",
    "model.fit(xtrain, ytrain)\n",
    "print(model)\n",
    "\n",
    "# make predictions\n",
    "expected = ytest\n",
    "predicted = model.predict(xtest)\n",
    "\n",
    "# summarize the fit of the model\n",
    "print(\"Score: \")\n",
    "print(model.score(xtrain, ytrain))\n",
    "print(\" \")\n",
    "print(\"Confusion matrix:\")\n",
    "print(metrics.confusion_matrix(expected, predicted))\n",
    "\n",
    "\n",
    "cf_matrix = metrics.confusion_matrix(expected, predicted)"
   ]
  },
  {
   "cell_type": "code",
   "execution_count": 51,
   "metadata": {},
   "outputs": [
    {
     "data": {
      "text/plain": [
       "<matplotlib.axes._subplots.AxesSubplot at 0x1f017a95208>"
      ]
     },
     "execution_count": 51,
     "metadata": {},
     "output_type": "execute_result"
    },
    {
     "data": {
      "image/png": "[encoded data removed]",
      "text/plain": [
       "<Figure size 432x288 with 2 Axes>"
      ]
     },
     "metadata": {
      "needs_background": "light"
     },
     "output_type": "display_data"
    }
   ],
   "source": [
    "labels = [\"True Neg\",\"False Pos\",\"False Neg\",\"True Pos\"]\n",
    "labels = np.asarray(labels).reshape(2,2)\n",
    "sns.heatmap(cf_matrix, annot=labels, fmt=\"\", cmap='Blues')"
   ]
  },
  {
   "cell_type": "code",
   "execution_count": null,
   "metadata": {},
   "outputs": [],
   "source": []
  }
 ],
 "metadata": {
  "kernelspec": {
   "display_name": "Python 3",
   "language": "python",
   "name": "python3"
  },
  "language_info": {
   "codemirror_mode": {
    "name": "ipython",
    "version": 3
   },
   "file_extension": ".py",
   "mimetype": "text/x-python",
   "name": "python",
   "nbconvert_exporter": "python",
   "pygments_lexer": "ipython3",
   "version": "3.7.9"
  }
 },
 "nbformat": 4,
 "nbformat_minor": 4
}
